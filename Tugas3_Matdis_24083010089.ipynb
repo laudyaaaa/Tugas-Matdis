{
  "nbformat": 4,
  "nbformat_minor": 0,
  "metadata": {
    "colab": {
      "provenance": []
    },
    "kernelspec": {
      "name": "python3",
      "display_name": "Python 3"
    },
    "language_info": {
      "name": "python"
    }
  },
  "cells": [
    {
      "cell_type": "markdown",
      "source": [
        "#tugas\n"
      ],
      "metadata": {
        "id": "DbynESG3jcil"
      }
    },
    {
      "cell_type": "markdown",
      "source": [
        "untuk soal dibawah ini temukan asimtot 2 berada pada n berapa?\n",
        "\n",
        "1+1/2+1/3+⋯+1/n<2"
      ],
      "metadata": {
        "id": "fGI9BdWYijQY"
      }
    },
    {
      "cell_type": "code",
      "execution_count": 3,
      "metadata": {
        "colab": {
          "base_uri": "https://localhost:8080/"
        },
        "id": "2veD8sm2fUMl",
        "outputId": "8e288cea-e19b-4341-c3d4-375d790d729a"
      },
      "outputs": [
        {
          "output_type": "stream",
          "name": "stdout",
          "text": [
            "n pertama kali melewati 2 adalah n=4, jumlah = 2.083333333333333\n"
          ]
        }
      ],
      "source": [
        "limit = 2\n",
        "total = 0\n",
        "\n",
        "for n in range(1, 10):\n",
        "    total += 1/n\n",
        "    if total >= limit:\n",
        "        print(f\"n pertama kali melewati {limit} adalah n={n}, jumlah = {total}\")\n",
        "        break\n"
      ]
    },
    {
      "cell_type": "markdown",
      "source": [
        "Pada soal ini diminta mencari nilai n pertama kali sehingga jumlah deret tersebut melampaui angka 2. Jika dihitung secara manual, untuk n=1 jumlahnya 1,\n",
        "untuk n=2 jumlahnya 1.5, untuk n=3 jumlahnya 1.833..., dan pada n=4 jumlahnya menjadi 2.083... yang sudah lebih besar dari 2. Dengan demikian, n=4 adalah nilai pertama kali deret harmonik melampaui angka 2."
      ],
      "metadata": {
        "id": "C_KvwZ_jgEmu"
      }
    },
    {
      "cell_type": "code",
      "source": [],
      "metadata": {
        "id": "CbKv-oCNigUs"
      },
      "execution_count": null,
      "outputs": []
    }
  ]
}