{
  "nbformat": 4,
  "nbformat_minor": 0,
  "metadata": {
    "colab": {
      "provenance": []
    },
    "kernelspec": {
      "name": "python3",
      "display_name": "Python 3"
    },
    "language_info": {
      "name": "python"
    }
  },
  "cells": [
    {
      "cell_type": "markdown",
      "source": [
        "1"
      ],
      "metadata": {
        "id": "WhoQ8xdyEQFK"
      }
    },
    {
      "cell_type": "code",
      "execution_count": 5,
      "metadata": {
        "colab": {
          "base_uri": "https://localhost:8080/"
        },
        "id": "ULfVu6ZgAZ0f",
        "outputId": "ae9ab67f-f9be-4134-e152-35f33ab986ac"
      },
      "outputs": [
        {
          "output_type": "stream",
          "name": "stdout",
          "text": [
            "Masukkan nilai n (>=0): 4\n",
            "Jumlah: 16\n",
            "n^2: 16\n",
            "True\n"
          ]
        }
      ],
      "source": [
        "n = int(input(\"Masukkan nilai n (>=0): \"))\n",
        "\n",
        "jumlah = sum(2*i - 1 for i in range(1, n+1))\n",
        "print(\"Jumlah:\", jumlah)\n",
        "print(\"n^2:\", n**2)\n",
        "print(jumlah == n**2)\n"
      ]
    },
    {
      "cell_type": "markdown",
      "source": [
        "4"
      ],
      "metadata": {
        "id": "qPiNWgpSESYC"
      }
    },
    {
      "cell_type": "code",
      "source": [
        "import math\n",
        "n = int(input(\"Masukkan nilai n (>=1): \"))\n",
        "\n",
        "faktorial = math.factorial(n)\n",
        "pangkat2 = 2**(n-1)\n",
        "\n",
        "print(\"n! =\", faktorial)\n",
        "print(\"2^(n-1) =\", pangkat2)\n",
        "print(faktorial >= pangkat2)\n"
      ],
      "metadata": {
        "colab": {
          "base_uri": "https://localhost:8080/"
        },
        "id": "kl8gQdLJAjHH",
        "outputId": "c4c6e042-889b-4aff-f75d-a778b11fad64"
      },
      "execution_count": 9,
      "outputs": [
        {
          "output_type": "stream",
          "name": "stdout",
          "text": [
            "Masukkan nilai n (>=1): 2\n",
            "n! = 2\n",
            "2^(n-1) = 2\n",
            "True\n"
          ]
        }
      ]
    },
    {
      "cell_type": "code",
      "source": [],
      "metadata": {
        "id": "OELeN8dHBIy-"
      },
      "execution_count": 9,
      "outputs": []
    }
  ]
}